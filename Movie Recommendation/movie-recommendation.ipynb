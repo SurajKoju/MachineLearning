{
 "cells": [
  {
   "cell_type": "code",
   "execution_count": 2,
   "metadata": {
    "_cell_guid": "b1076dfc-b9ad-4769-8c92-a6c4dae69d19",
    "_uuid": "8f2839f25d086af736a60e9eeb907d3b93b6e0e5",
    "execution": {
     "iopub.execute_input": "2022-01-31T17:41:04.128723Z",
     "iopub.status.busy": "2022-01-31T17:41:04.128111Z",
     "iopub.status.idle": "2022-01-31T17:41:04.139260Z",
     "shell.execute_reply": "2022-01-31T17:41:04.138535Z",
     "shell.execute_reply.started": "2022-01-31T17:41:04.128670Z"
    }
   },
   "outputs": [],
   "source": [
    "import numpy as np \n",
    "import pandas as pd \n",
    "\n",
    "import os\n",
    "for dirname, _, filenames in os.walk('/kaggle/input'):\n",
    "    for filename in filenames:\n",
    "        print(os.path.join(dirname, filename))"
   ]
  },
  {
   "cell_type": "code",
   "execution_count": 3,
   "metadata": {
    "execution": {
     "iopub.execute_input": "2022-01-31T17:41:04.899635Z",
     "iopub.status.busy": "2022-01-31T17:41:04.899197Z",
     "iopub.status.idle": "2022-01-31T17:41:05.572830Z",
     "shell.execute_reply": "2022-01-31T17:41:05.571925Z",
     "shell.execute_reply.started": "2022-01-31T17:41:04.899596Z"
    }
   },
   "outputs": [
    {
     "name": "stdout",
     "output_type": "stream",
     "text": [
      "Index(['movie_id', 'title', 'cast', 'crew'], dtype='object') \n",
      "\n"
     ]
    },
    {
     "data": {
      "text/plain": [
       "Index(['budget', 'genres', 'homepage', 'id', 'keywords', 'original_language',\n",
       "       'original_title', 'overview', 'popularity', 'production_companies',\n",
       "       'production_countries', 'release_date', 'revenue', 'runtime',\n",
       "       'spoken_languages', 'status', 'tagline', 'title', 'vote_average',\n",
       "       'vote_count'],\n",
       "      dtype='object')"
      ]
     },
     "execution_count": 3,
     "metadata": {},
     "output_type": "execute_result"
    }
   ],
   "source": [
    "credit_data = pd.read_csv('Dataset/tmdb_5000_credits.csv')\n",
    "movies_data = pd.read_csv('Dataset/tmdb_5000_movies.csv')\n",
    "\n",
    "print(credit_data.columns,'\\n')\n",
    "movies_data.columns"
   ]
  },
  {
   "cell_type": "code",
   "execution_count": 4,
   "metadata": {
    "execution": {
     "iopub.execute_input": "2022-01-31T17:41:49.946774Z",
     "iopub.status.busy": "2022-01-31T17:41:49.945648Z",
     "iopub.status.idle": "2022-01-31T17:41:49.966523Z",
     "shell.execute_reply": "2022-01-31T17:41:49.965376Z",
     "shell.execute_reply.started": "2022-01-31T17:41:49.946730Z"
    }
   },
   "outputs": [],
   "source": [
    "# Merge the credit data with movies data Id\n",
    "credit_data.columns = ['id','tittle','cast','crew']\n",
    "movies_data = movies_data.merge(credit_data,on='id')\n",
    "\n"
   ]
  },
  {
   "cell_type": "code",
   "execution_count": 5,
   "metadata": {
    "execution": {
     "iopub.execute_input": "2022-01-31T17:38:18.253549Z",
     "iopub.status.busy": "2022-01-31T17:38:18.253272Z",
     "iopub.status.idle": "2022-01-31T17:38:18.556461Z",
     "shell.execute_reply": "2022-01-31T17:38:18.555291Z",
     "shell.execute_reply.started": "2022-01-31T17:38:18.253503Z"
    }
   },
   "outputs": [
    {
     "data": {
      "text/plain": [
       "Text(0.5, 1.0, 'Popular Movies')"
      ]
     },
     "execution_count": 5,
     "metadata": {},
     "output_type": "execute_result"
    },
    {
     "data": {
      "image/png": "[encoded data removed]",
      "text/plain": [
       "<Figure size 864x864 with 1 Axes>"
      ]
     },
     "metadata": {
      "needs_background": "light"
     },
     "output_type": "display_data"
    }
   ],
   "source": [
    "pop= movies_data.sort_values('popularity', ascending=False)\n",
    "import matplotlib.pyplot as plt\n",
    "plt.figure(figsize=(12,12))\n",
    "\n",
    "plt.barh(pop['title'].head(10),pop['popularity'].head(10), align='center',\n",
    "        color='skyblue')\n",
    "plt.gca().invert_yaxis()\n",
    "plt.xlabel(\"Popularity\")\n",
    "plt.title(\"Popular Movies\")"
   ]
  },
  {
   "cell_type": "code",
   "execution_count": null,
   "metadata": {},
   "outputs": [],
   "source": []
  },
  {
   "cell_type": "markdown",
   "metadata": {},
   "source": [
    "# **Content Based Filtering**"
   ]
  },
  {
   "cell_type": "code",
   "execution_count": 6,
   "metadata": {
    "execution": {
     "iopub.execute_input": "2022-01-31T17:38:18.558921Z",
     "iopub.status.busy": "2022-01-31T17:38:18.558667Z",
     "iopub.status.idle": "2022-01-31T17:38:18.567227Z",
     "shell.execute_reply": "2022-01-31T17:38:18.566116Z",
     "shell.execute_reply.started": "2022-01-31T17:38:18.558889Z"
    }
   },
   "outputs": [
    {
     "data": {
      "text/plain": [
       "0    In the 22nd century, a paraplegic Marine is di...\n",
       "1    Captain Barbossa, long believed to be dead, ha...\n",
       "2    A cryptic message from Bond’s past sends him o...\n",
       "3    Following the death of District Attorney Harve...\n",
       "4    John Carter is a war-weary, former military ca...\n",
       "Name: overview, dtype: object"
      ]
     },
     "execution_count": 6,
     "metadata": {},
     "output_type": "execute_result"
    }
   ],
   "source": [
    "movies_data['overview'].head(5)"
   ]
  },
  {
   "cell_type": "code",
   "execution_count": 7,
   "metadata": {
    "execution": {
     "iopub.execute_input": "2022-01-31T17:38:18.569078Z",
     "iopub.status.busy": "2022-01-31T17:38:18.568809Z",
     "iopub.status.idle": "2022-01-31T17:38:18.946295Z",
     "shell.execute_reply": "2022-01-31T17:38:18.945282Z",
     "shell.execute_reply.started": "2022-01-31T17:38:18.569049Z"
    }
   },
   "outputs": [
    {
     "data": {
      "text/plain": [
       "(4803, 20978)"
      ]
     },
     "execution_count": 7,
     "metadata": {},
     "output_type": "execute_result"
    }
   ],
   "source": [
    "from sklearn.feature_extraction.text import TfidfVectorizer\n",
    "\n",
    "#Define a TF-IDF Vectorizer Object. Remove all english stop words such as 'the', 'a'\n",
    "tfidf = TfidfVectorizer(stop_words='english')\n",
    "\n",
    "#Replace NaN with an empty string\n",
    "# overview consist of the description of the movies\n",
    "movies_data['overview'] = movies_data['overview'].fillna('')\n",
    "\n",
    "#Construct the required TF-IDF matrix by fitting and transforming the data\n",
    "tfidf_matrix = tfidf.fit_transform(movies_data['overview'])\n",
    "\n",
    "#Output the shape of tfidf_matrix\n",
    "tfidf_matrix.shape"
   ]
  },
  {
   "cell_type": "code",
   "execution_count": 8,
   "metadata": {
    "execution": {
     "iopub.execute_input": "2022-01-31T17:38:18.947919Z",
     "iopub.status.busy": "2022-01-31T17:38:18.947673Z",
     "iopub.status.idle": "2022-01-31T17:38:19.604108Z",
     "shell.execute_reply": "2022-01-31T17:38:19.603168Z",
     "shell.execute_reply.started": "2022-01-31T17:38:18.947889Z"
    }
   },
   "outputs": [],
   "source": [
    "# Import linear_kernel\n",
    "from sklearn.metrics.pairwise import linear_kernel\n",
    "\n",
    "# Compute the cosine similarity matrix\n",
    "cosine_sim = linear_kernel(tfidf_matrix, tfidf_matrix)\n"
   ]
  },
  {
   "cell_type": "markdown",
   "metadata": {},
   "source": [
    "****We are going to define a function that takes in a movie title as an input and outputs a list of the 10 most similar movies. Firstly, for this, we need a reverse mapping of movie titles and DataFrame indices. In other words, we need a mechanism to identify the index of a movie in our metadata DataFrame, given its title****"
   ]
  },
  {
   "cell_type": "code",
   "execution_count": 9,
   "metadata": {
    "execution": {
     "iopub.execute_input": "2022-01-31T17:38:19.606433Z",
     "iopub.status.busy": "2022-01-31T17:38:19.605534Z",
     "iopub.status.idle": "2022-01-31T17:38:19.611746Z",
     "shell.execute_reply": "2022-01-31T17:38:19.610840Z",
     "shell.execute_reply.started": "2022-01-31T17:38:19.606393Z"
    }
   },
   "outputs": [],
   "source": [
    "#Construct a reverse map of indices and movie titles\n",
    "indices = pd.Series(movies_data.index, index=movies_data['title']).drop_duplicates()"
   ]
  },
  {
   "cell_type": "code",
   "execution_count": 10,
   "metadata": {
    "execution": {
     "iopub.execute_input": "2022-01-31T17:38:19.614172Z",
     "iopub.status.busy": "2022-01-31T17:38:19.613189Z",
     "iopub.status.idle": "2022-01-31T17:38:19.626356Z",
     "shell.execute_reply": "2022-01-31T17:38:19.625558Z",
     "shell.execute_reply.started": "2022-01-31T17:38:19.614132Z"
    }
   },
   "outputs": [],
   "source": [
    "# Function that takes in movie title as input and outputs most similar movies\n",
    "def get_recommendations(title, cosine_sim=cosine_sim):\n",
    "    # Get the index of the movie that matches the title\n",
    "    idx = indices[title]\n",
    "\n",
    "    # Get the pairwsie similarity scores of all movies with that movie\n",
    "    sim_scores = list(enumerate(cosine_sim[idx]))\n",
    "\n",
    "    # Sort the movies based on the similarity scores\n",
    "    sim_scores = sorted(sim_scores, key=lambda x: x[1], reverse=True)\n",
    "\n",
    "    # Get the scores of the 10 most similar movies\n",
    "    sim_scores = sim_scores[1:5]\n",
    "\n",
    "    # Get the movie indices\n",
    "    movie_indices = [i[0] for i in sim_scores]\n",
    "\n",
    "    # Return the top 10 most similar movies\n",
    "    return movies_data['title'].iloc[movie_indices]"
   ]
  },
  {
   "cell_type": "code",
   "execution_count": 11,
   "metadata": {
    "execution": {
     "iopub.execute_input": "2022-01-31T17:38:19.628363Z",
     "iopub.status.busy": "2022-01-31T17:38:19.627574Z",
     "iopub.status.idle": "2022-01-31T17:38:19.654258Z",
     "shell.execute_reply": "2022-01-31T17:38:19.653219Z",
     "shell.execute_reply.started": "2022-01-31T17:38:19.628318Z"
    }
   },
   "outputs": [
    {
     "data": {
      "text/plain": [
       "65      The Dark Knight\n",
       "299      Batman Forever\n",
       "428      Batman Returns\n",
       "1359             Batman\n",
       "Name: title, dtype: object"
      ]
     },
     "execution_count": 11,
     "metadata": {},
     "output_type": "execute_result"
    }
   ],
   "source": [
    "get_recommendations('The Dark Knight Rises')"
   ]
  },
  {
   "cell_type": "code",
   "execution_count": 12,
   "metadata": {
    "execution": {
     "iopub.execute_input": "2022-01-31T17:38:19.656153Z",
     "iopub.status.busy": "2022-01-31T17:38:19.655825Z",
     "iopub.status.idle": "2022-01-31T17:38:19.675066Z",
     "shell.execute_reply": "2022-01-31T17:38:19.674237Z",
     "shell.execute_reply.started": "2022-01-31T17:38:19.656108Z"
    }
   },
   "outputs": [
    {
     "data": {
      "text/plain": [
       "2731     The Godfather: Part II\n",
       "1873                 Blood Ties\n",
       "867     The Godfather: Part III\n",
       "3727                 Easy Money\n",
       "Name: title, dtype: object"
      ]
     },
     "execution_count": 12,
     "metadata": {},
     "output_type": "execute_result"
    }
   ],
   "source": [
    "get_recommendations('The Godfather')"
   ]
  },
  {
   "cell_type": "code",
   "execution_count": null,
   "metadata": {},
   "outputs": [],
   "source": []
  }
 ],
 "metadata": {
  "kernelspec": {
   "display_name": "Python 3 (ipykernel)",
   "language": "python",
   "name": "python3"
  },
  "language_info": {
   "codemirror_mode": {
    "name": "ipython",
    "version": 3
   },
   "file_extension": ".py",
   "mimetype": "text/x-python",
   "name": "python",
   "nbconvert_exporter": "python",
   "pygments_lexer": "ipython3",
   "version": "3.8.8"
  }
 },
 "nbformat": 4,
 "nbformat_minor": 4
}
